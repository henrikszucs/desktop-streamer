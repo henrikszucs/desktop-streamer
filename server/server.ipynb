{
 "cells": [
  {
   "cell_type": "code",
   "execution_count": 1,
   "id": "c319b2ff",
   "metadata": {},
   "outputs": [],
   "source": [
    "# pip install bottle\n",
    "# pip install cheroot"
   ]
  },
  {
   "cell_type": "code",
   "execution_count": 2,
   "id": "94354018",
   "metadata": {},
   "outputs": [],
   "source": [
    "# import libs\n",
    "import argparse\n",
    "import json\n",
    "from pathlib import Path\n",
    "from os import path, makedirs, getcwd\n",
    "import sqlite3\n",
    "\n",
    "from aiohttp import web\n",
    "import bottle\n",
    "from bottle import Bottle"
   ]
  },
  {
   "cell_type": "code",
   "execution_count": 3,
   "id": "c29a54e6",
   "metadata": {},
   "outputs": [],
   "source": [
    "#read cli options\n",
    "parser = argparse.ArgumentParser(description='Start remote desktop server.')\n",
    "parser.add_argument('--configuration', type=str, help='path of the configuration file', default='./conf/conf.json')\n",
    "args, unknown = parser.parse_known_args()\n",
    "#print(parser.format_help())\n",
    "#print(args.configuration)\n",
    "conf_path = args.configuration"
   ]
  },
  {
   "cell_type": "code",
   "execution_count": 4,
   "id": "21f40f7c",
   "metadata": {},
   "outputs": [],
   "source": [
    "# read configuration\n",
    "if path.exists(conf_path):\n",
    "    f = open(conf_path, 'r')\n",
    "    conf = json.loads(f.read())\n",
    "    f.close()\n",
    "else:\n",
    "    conf = json.loads('{}')"
   ]
  },
  {
   "cell_type": "code",
   "execution_count": 5,
   "id": "5070d135",
   "metadata": {},
   "outputs": [],
   "source": [
    "# handle absolute or relative paths in conf\n",
    "def parse_path(src):\n",
    "    if path.isabs(src) == False:\n",
    "        src = path.join(getcwd(), path.dirname(conf_path), src)\n",
    "    return path.normpath(src)"
   ]
  },
  {
   "cell_type": "code",
   "execution_count": 6,
   "id": "a3d56b54",
   "metadata": {},
   "outputs": [],
   "source": [
    "# read database place\n",
    "if 'db' not in conf:\n",
    "    conf['db'] = 'database.db'\n",
    "conf['db'] = parse_path(conf['db'])\n",
    "\n",
    "# check folder\n",
    "db_folder = path.dirname(conf['db'])\n",
    "if path.exists(db_folder) == False and path.dirname(db_folder) != '':\n",
    "    makedirs(db_folder)\n",
    "\n",
    "# create database\n",
    "con = sqlite3.connect(conf['db'])\n",
    "cur = con.cursor()\n",
    "\n",
    "# create users\n",
    "cur.execute('''\n",
    "CREATE TABLE IF NOT EXISTS `users` (\n",
    "    `user_id` INT(11) NOT NULL,\n",
    "    `email` VARCHAR(255) NULL,\n",
    "    `username` VARCHAR(255) NULL,\n",
    "    `password` VARCHAR(255) NULL,\n",
    "    PRIMARY KEY(`user_id`)\n",
    ");\n",
    "''')\n",
    "\n",
    "# create user_sessions\n",
    "cur.execute('''\n",
    "CREATE TABLE IF NOT EXISTS `user_sessions` (\n",
    "    `session_id` INT(11) NOT NULL,\n",
    "    `user_id` INT(11) NOT NULL,\n",
    "    `last_login` TIMESTAMP NULL ,\n",
    "    `last_ip` VARCHAR(255) NULL,\n",
    "    `expire` TIMESTAMP NOT NULL,\n",
    "    `is_permanent` TINYINT(1) NOT NULL,\n",
    "    PRIMARY KEY(`session_id`),\n",
    "    FOREIGN KEY(`user_id`) REFERENCES `users`(`user_id`) ON UPDATE CASCADE ON DELETE CASCADE\n",
    ");\n",
    "''')\n",
    "\n",
    "\n",
    "# create rooms\n",
    "cur.execute('''\n",
    "CREATE TABLE IF NOT EXISTS `rooms` (\n",
    "    `room_id` INT(11) NOT NULL,\n",
    "    `name` VARCHAR(255) NOT NULL,\n",
    "    `is_open` TINYINT(1) NOT NULL,\n",
    "    PRIMARY KEY(`room_id`)\n",
    ");\n",
    "''')\n",
    "\n",
    "# create room_permissions\n",
    "cur.execute('''\n",
    "CREATE TABLE IF NOT EXISTS `room_permissions` (\n",
    "    `permission_id` int(11) NOT NULL,\n",
    "    `room_id` INT(11) NOT NULL,\n",
    "    `user_id` INT(11) NOT NULL,\n",
    "    `permission` TINYINT(1) NOT NULL,\n",
    "    PRIMARY KEY(`permission_id`)\n",
    "    FOREIGN KEY(`user_id`) REFERENCES `users`(`user_id`) ON UPDATE CASCADE ON DELETE CASCADE,\n",
    "    FOREIGN KEY(`room_id`) REFERENCES `rooms`(`room_id`) ON UPDATE CASCADE ON DELETE CASCADE\n",
    ");\n",
    "''')\n",
    "\n",
    "con.close()\n"
   ]
  },
  {
   "cell_type": "code",
   "execution_count": null,
   "id": "0683d9d0",
   "metadata": {},
   "outputs": [],
   "source": [
    "\n",
    "\n"
   ]
  },
  {
   "cell_type": "code",
   "execution_count": 7,
   "id": "f11fa107",
   "metadata": {},
   "outputs": [],
   "source": [
    "\n",
    "\n",
    "\n",
    "if 'key' not in conf or 'cert' not in conf:\n",
    "    keyfile = None\n",
    "    certfile = None\n",
    "else:\n",
    "    conf['key'] = parse_path(conf['key'])\n",
    "    conf['cert'] = parse_path(conf['cert'])\n",
    "    if path.isfile(conf['key']) and path.isfile(conf['cert']):\n",
    "        keyfile = conf['key']\n",
    "        certfile = conf['cert']\n",
    "    else:\n",
    "        keyfile = None\n",
    "        certfile = None"
   ]
  },
  {
   "cell_type": "code",
   "execution_count": null,
   "id": "adf5ca16",
   "metadata": {},
   "outputs": [
    {
     "name": "stderr",
     "output_type": "stream",
     "text": [
      "Bottle v0.12.25 server starting up (using SSLCherootAdapter())...\n",
      "Listening on http://localhost:443/\n",
      "Hit Ctrl-C to quit.\n",
      "\n",
      "C:\\Users\\Public\\Documents\\Wondershare\\CreatorTemp\\ipykernel_14352\\2736852238.py:14: DeprecationWarning: ssl.OP_NO_SSL*/ssl.OP_NO_TLS* options are deprecated\n",
      "  server.ssl_adapter.context.options |= ssl.OP_NO_TLSv1\n",
      "C:\\Users\\Public\\Documents\\Wondershare\\CreatorTemp\\ipykernel_14352\\2736852238.py:15: DeprecationWarning: ssl.OP_NO_SSL*/ssl.OP_NO_TLS* options are deprecated\n",
      "  server.ssl_adapter.context.options |= ssl.OP_NO_TLSv1_1\n"
     ]
    }
   ],
   "source": [
    "from bottle import ServerAdapter, run\n",
    "\n",
    "class SSLCherootAdapter(ServerAdapter):\n",
    "    def run(self, handler):\n",
    "        from cheroot import wsgi\n",
    "        from cheroot.ssl.builtin import BuiltinSSLAdapter\n",
    "        import ssl\n",
    "\n",
    "        server = wsgi.Server((self.host, self.port), handler)\n",
    "        server.ssl_adapter = BuiltinSSLAdapter(certfile, keyfile)\n",
    "\n",
    "        # By default, the server will allow negotiations with extremely old protocols\n",
    "        # that are susceptible to attacks, so we only allow TLSv1.2\n",
    "        server.ssl_adapter.context.options |= ssl.OP_NO_TLSv1\n",
    "        server.ssl_adapter.context.options |= ssl.OP_NO_TLSv1_1\n",
    "\n",
    "        try:\n",
    "            server.start()\n",
    "        finally:\n",
    "            server.stop()\n",
    "            \n",
    "base = Bottle()\n",
    "@base.route(\"<url:re:.+>\")\n",
    "def index(url):\n",
    "    return 'Hello world' + url\n",
    "\n",
    "run(app=base, host='localhost', port=443, server=SSLCherootAdapter)\n"
   ]
  },
  {
   "cell_type": "code",
   "execution_count": null,
   "id": "fd3d4f4e",
   "metadata": {},
   "outputs": [],
   "source": []
  },
  {
   "cell_type": "code",
   "execution_count": null,
   "id": "3c0e624f",
   "metadata": {},
   "outputs": [],
   "source": [
    "try:\n",
    "    # Main code\n",
    "    i = 0\n",
    "    while True:\n",
    "        i += 1\n",
    "except KeyboardInterrupt:\n",
    "    # Cleanup/exiting code\n",
    "    print('done!' + str(i))\n"
   ]
  },
  {
   "cell_type": "code",
   "execution_count": null,
   "id": "401fb57e",
   "metadata": {},
   "outputs": [],
   "source": []
  },
  {
   "cell_type": "code",
   "execution_count": null,
   "id": "69198bbe",
   "metadata": {},
   "outputs": [],
   "source": []
  }
 ],
 "metadata": {
  "kernelspec": {
   "display_name": "Python 3 (ipykernel)",
   "language": "python",
   "name": "python3"
  },
  "language_info": {
   "codemirror_mode": {
    "name": "ipython",
    "version": 3
   },
   "file_extension": ".py",
   "mimetype": "text/x-python",
   "name": "python",
   "nbconvert_exporter": "python",
   "pygments_lexer": "ipython3",
   "version": "3.11.5"
  }
 },
 "nbformat": 4,
 "nbformat_minor": 5
}
